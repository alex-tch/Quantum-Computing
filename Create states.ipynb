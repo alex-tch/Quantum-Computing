{
 "cells": [
  {
   "cell_type": "markdown",
   "metadata": {},
   "source": [
    "#### 1. Create Greenberger-Horne-Zeilenger state for n qubits (|00...0> + |11...1>)/sqrt(2) using QISKIT"
   ]
  },
  {
   "cell_type": "code",
   "execution_count": 1,
   "metadata": {},
   "outputs": [],
   "source": [
    "import numpy as np\n",
    "from numpy.random import default_rng\n",
    "\n",
    "from qiskit import *\n",
    "from qiskit.quantum_info import Statevector\n",
    "from qiskit_aer import Aer\n",
    "from qiskit import QuantumCircuit\n",
    "\n",
    "%matplotlib inline\n",
    "\n",
    "import warnings\n",
    "warnings.filterwarnings(\"ignore\", category=DeprecationWarning) \n",
    "\n",
    "statevec_sim = Aer.get_backend(\"statevector_simulator\")\n"
   ]
  },
  {
   "cell_type": "code",
   "execution_count": 2,
   "metadata": {},
   "outputs": [],
   "source": [
    "def create_Swap_gates(circ, num_q):\n",
    "\n",
    "    circ.cx(0, 1)\n",
    "    if num_q > 2:\n",
    "        for i in range(1, num_q-1):\n",
    "            qc.swap(i, i+1)\n",
    "        \n",
    "        create_Swap_gates(circ, num_q-1)\n",
    "    \n",
    "    return (circ)\n"
   ]
  },
  {
   "cell_type": "code",
   "execution_count": 3,
   "metadata": {},
   "outputs": [
    {
     "data": {
      "image/png": "[encoded data removed]",
      "text/plain": [
       "<Figure size 447.797x264.88 with 1 Axes>"
      ]
     },
     "execution_count": 3,
     "metadata": {},
     "output_type": "execute_result"
    }
   ],
   "source": [
    "# create circuit and initialize qubit\n",
    "num_of_qubits = 4\n",
    "qc = QuantumCircuit(num_of_qubits)\n",
    "qc.h(0)     # Hadamard gate on a 1st qubit\n",
    "create_Swap_gates(qc, num_of_qubits)\n",
    "\n",
    "qc.draw(output='mpl')"
   ]
  },
  {
   "cell_type": "code",
   "execution_count": 4,
   "metadata": {},
   "outputs": [
    {
     "name": "stdout",
     "output_type": "stream",
     "text": [
      "Statevector([0.70710678+0.j, 0.        +0.j, 0.        +0.j,\n",
      "             0.        +0.j, 0.        +0.j, 0.        +0.j,\n",
      "             0.        +0.j, 0.        +0.j, 0.        +0.j,\n",
      "             0.        +0.j, 0.        +0.j, 0.        +0.j,\n",
      "             0.        +0.j, 0.        +0.j, 0.        +0.j,\n",
      "             0.70710678+0.j],\n",
      "            dims=(2, 2, 2, 2))\n"
     ]
    }
   ],
   "source": [
    "res = statevec_sim.run(qc).result()\n",
    "statevec = res.get_statevector()\n",
    "    \n",
    "print(statevec)\n"
   ]
  },
  {
   "cell_type": "markdown",
   "metadata": {},
   "source": [
    "#### 2. Create Greenberger-Horne-Zeilenger state for n qubits (|00...0> + |11...1>)/sqrt(2) using Matrix Product State"
   ]
  },
  {
   "cell_type": "code",
   "execution_count": 5,
   "metadata": {},
   "outputs": [],
   "source": [
    "import tensornetwork as tn\n",
    "import numpy as np\n",
    "import math"
   ]
  },
  {
   "cell_type": "code",
   "execution_count": 6,
   "metadata": {},
   "outputs": [],
   "source": [
    "def create_GHZ_MPS(dim):\n",
    "  '''Build the MPS tensor'''\n",
    "  T = np.array( [ [[1,0],[0,0]] , [[0,0],[0,1]] ])\n",
    "\n",
    "  mps = []\n",
    "  for _ in range(dim):\n",
    "    mps.append(tn.Node(T))\n",
    "\n",
    "  #connect edges to build mps\n",
    "  for k in range(dim-1):\n",
    "    mps[k][2]^mps[k+1][0]\n",
    "\n",
    "  mps[0][0]^mps[dim-1][2]  # trace edge between first & last node\n",
    "\n",
    "  return mps"
   ]
  },
  {
   "cell_type": "code",
   "execution_count": 7,
   "metadata": {},
   "outputs": [
    {
     "name": "stdout",
     "output_type": "stream",
     "text": [
      "[0.70710678 0.         0.         0.         0.         0.\n",
      " 0.         0.         0.         0.         0.         0.\n",
      " 0.         0.         0.         0.70710678]\n"
     ]
    }
   ],
   "source": [
    "n_qub = 4 # number of qubits\n",
    "GHZ_mps = create_GHZ_MPS(n_qub)\n",
    "\n",
    "GHZ_result = tn.contractors.auto(GHZ_mps, ignore_edge_order=True)\n",
    "print(GHZ_result.tensor.reshape(2**n_qub)/math.sqrt(2))"
   ]
  },
  {
   "cell_type": "markdown",
   "metadata": {},
   "source": [
    "#### 3. Create W state for n qubits (|00...0> + |11...1>)/sqrt(2) using MPS"
   ]
  },
  {
   "cell_type": "code",
   "execution_count": 8,
   "metadata": {},
   "outputs": [],
   "source": [
    "def create_W_MPS(dim):\n",
    "  '''Build the MPS tensor'''\n",
    "  T1 = np.array( [ [[1,0],[0,1]] , [[0,1],[0,0]] ]) # first (dim-1) tensors\n",
    "  T2 = np.array( [ [[0,1],[1,0]] , [[1,0],[0,0]] ]) / math.sqrt(dim) # last tensor\n",
    "\n",
    "  mps = []\n",
    "  for _ in range(dim-1):      # all tensors except last one\n",
    "    mps.append(tn.Node(T1))\n",
    "  \n",
    "  mps.append(tn.Node(T2))       # add last tensor\n",
    "\n",
    "  #connect edges to build mps\n",
    "  for k in range(dim-1):\n",
    "    mps[k][2]^mps[k+1][0]\n",
    "\n",
    "  mps[0][0]^mps[dim-1][2]  # trace edge between first & last node\n",
    "\n",
    "  return mps"
   ]
  },
  {
   "cell_type": "code",
   "execution_count": 9,
   "metadata": {},
   "outputs": [
    {
     "name": "stdout",
     "output_type": "stream",
     "text": [
      "[0.         0.57735027 0.57735027 0.         0.57735027 0.\n",
      " 0.         0.        ]\n"
     ]
    }
   ],
   "source": [
    "n_qub = 3 # number of qubits\n",
    "W_mps = create_W_MPS(n_qub)\n",
    "\n",
    "W_result = tn.contractors.auto(W_mps, ignore_edge_order=True)\n",
    "print(W_result.tensor.reshape(2**n_qub))\n",
    "\n",
    "# W-state is (|001> + |010> + |100>)/3\n",
    "# first non-zero element corresponds to |001>, second non-zero is |010>, and last - |100>\n"
   ]
  },
  {
   "cell_type": "code",
   "execution_count": 10,
   "metadata": {},
   "outputs": [
    {
     "name": "stdout",
     "output_type": "stream",
     "text": [
      "[0.         0.40824829 0.40824829 0.         0.40824829 0.\n",
      " 0.         0.         0.40824829 0.         0.         0.\n",
      " 0.         0.         0.         0.         0.40824829 0.\n",
      " 0.         0.         0.         0.         0.         0.\n",
      " 0.         0.         0.         0.         0.         0.\n",
      " 0.         0.         0.40824829 0.         0.         0.\n",
      " 0.         0.         0.         0.         0.         0.\n",
      " 0.         0.         0.         0.         0.         0.\n",
      " 0.         0.         0.         0.         0.         0.\n",
      " 0.         0.         0.         0.         0.         0.\n",
      " 0.         0.         0.         0.        ]\n"
     ]
    }
   ],
   "source": [
    "n_qub = 6 # number of qubits\n",
    "W_mps = create_W_MPS(n_qub)\n",
    "\n",
    "W_result = tn.contractors.auto(W_mps, ignore_edge_order=True)\n",
    "print(W_result.tensor.reshape(2**n_qub))\n",
    "# W-state is (|000001> + |000010> + |000100> + |001000> + |010000> + |100000>)/6"
   ]
  },
  {
   "cell_type": "code",
   "execution_count": null,
   "metadata": {},
   "outputs": [],
   "source": []
  }
 ],
 "metadata": {
  "kernelspec": {
   "display_name": "Python 3",
   "language": "python",
   "name": "python3"
  },
  "language_info": {
   "codemirror_mode": {
    "name": "ipython",
    "version": 3
   },
   "file_extension": ".py",
   "mimetype": "text/x-python",
   "name": "python",
   "nbconvert_exporter": "python",
   "pygments_lexer": "ipython3",
   "version": "3.9.2"
  }
 },
 "nbformat": 4,
 "nbformat_minor": 2
}
